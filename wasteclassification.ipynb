{
 "cells": [
  {
   "cell_type": "markdown",
   "metadata": {},
   "source": [
    "## Waste Management using CNN Model"
   ]
  },
  {
   "cell_type": "code",
   "execution_count": 17,
   "metadata": {},
   "outputs": [
    {
     "name": "stdout",
     "output_type": "stream",
     "text": [
      "Collecting opencv-python\n",
      "  Downloading opencv_python-4.11.0.86-cp37-abi3-win_amd64.whl (39.5 MB)\n",
      "     ---------------------------------------- 0.0/39.5 MB ? eta -:--:--\n",
      "     --------------------------------------- 0.0/39.5 MB 667.8 kB/s eta 0:01:00\n",
      "     ---------------------------------------- 0.1/39.5 MB 1.3 MB/s eta 0:00:30\n",
      "     ---------------------------------------- 0.2/39.5 MB 1.7 MB/s eta 0:00:23\n",
      "     ---------------------------------------- 0.5/39.5 MB 2.6 MB/s eta 0:00:16\n",
      "      --------------------------------------- 0.7/39.5 MB 2.9 MB/s eta 0:00:14\n",
      "     - -------------------------------------- 1.0/39.5 MB 3.9 MB/s eta 0:00:10\n",
      "     - -------------------------------------- 1.4/39.5 MB 4.3 MB/s eta 0:00:09\n",
      "     - -------------------------------------- 1.8/39.5 MB 4.9 MB/s eta 0:00:08\n",
      "     -- ------------------------------------- 2.2/39.5 MB 5.3 MB/s eta 0:00:08\n",
      "     -- ------------------------------------- 2.7/39.5 MB 5.8 MB/s eta 0:00:07\n",
      "     --- ------------------------------------ 3.1/39.5 MB 6.1 MB/s eta 0:00:06\n",
      "     --- ------------------------------------ 3.6/39.5 MB 6.3 MB/s eta 0:00:06\n",
      "     ---- ----------------------------------- 4.0/39.5 MB 6.5 MB/s eta 0:00:06\n",
      "     ---- ----------------------------------- 4.4/39.5 MB 6.7 MB/s eta 0:00:06\n",
      "     ----- ---------------------------------- 5.0/39.5 MB 7.0 MB/s eta 0:00:05\n",
      "     ----- ---------------------------------- 5.5/39.5 MB 7.3 MB/s eta 0:00:05\n",
      "     ------ --------------------------------- 6.0/39.5 MB 7.5 MB/s eta 0:00:05\n",
      "     ------ --------------------------------- 6.5/39.5 MB 7.7 MB/s eta 0:00:05\n",
      "     ------- -------------------------------- 7.1/39.5 MB 8.0 MB/s eta 0:00:05\n",
      "     ------- -------------------------------- 7.6/39.5 MB 8.2 MB/s eta 0:00:04\n",
      "     -------- ------------------------------- 8.2/39.5 MB 8.3 MB/s eta 0:00:04\n",
      "     -------- ------------------------------- 8.7/39.5 MB 8.5 MB/s eta 0:00:04\n",
      "     --------- ------------------------------ 9.3/39.5 MB 8.6 MB/s eta 0:00:04\n",
      "     --------- ------------------------------ 9.6/39.5 MB 8.7 MB/s eta 0:00:04\n",
      "     --------- ------------------------------ 9.6/39.5 MB 8.7 MB/s eta 0:00:04\n",
      "     --------- ------------------------------ 9.6/39.5 MB 8.7 MB/s eta 0:00:04\n",
      "     --------- ------------------------------ 9.6/39.5 MB 8.7 MB/s eta 0:00:04\n",
      "     ---------- ----------------------------- 9.9/39.5 MB 7.5 MB/s eta 0:00:04\n",
      "     ---------- ----------------------------- 10.5/39.5 MB 8.5 MB/s eta 0:00:04\n",
      "     ----------- ---------------------------- 11.0/39.5 MB 8.8 MB/s eta 0:00:04\n",
      "     ----------- ---------------------------- 11.2/39.5 MB 8.6 MB/s eta 0:00:04\n",
      "     ----------- ---------------------------- 11.8/39.5 MB 8.8 MB/s eta 0:00:04\n",
      "     ------------ --------------------------- 12.4/39.5 MB 9.0 MB/s eta 0:00:04\n",
      "     ------------- -------------------------- 12.9/39.5 MB 9.1 MB/s eta 0:00:03\n",
      "     ------------- -------------------------- 13.6/39.5 MB 9.2 MB/s eta 0:00:03\n",
      "     -------------- ------------------------- 14.1/39.5 MB 9.5 MB/s eta 0:00:03\n",
      "     -------------- ------------------------- 14.7/39.5 MB 9.6 MB/s eta 0:00:03\n",
      "     --------------- ------------------------ 15.4/39.5 MB 9.6 MB/s eta 0:00:03\n",
      "     ---------------- ----------------------- 16.0/39.5 MB 9.8 MB/s eta 0:00:03\n",
      "     ---------------- ----------------------- 16.6/39.5 MB 9.8 MB/s eta 0:00:03\n",
      "     ----------------- ---------------------- 17.2/39.5 MB 9.8 MB/s eta 0:00:03\n",
      "     ------------------ --------------------- 17.8/39.5 MB 9.9 MB/s eta 0:00:03\n",
      "     ------------------ --------------------- 18.4/39.5 MB 9.9 MB/s eta 0:00:03\n",
      "     ------------------- -------------------- 19.0/39.5 MB 9.9 MB/s eta 0:00:03\n",
      "     ------------------- ------------------- 19.6/39.5 MB 10.1 MB/s eta 0:00:02\n",
      "     ------------------- ------------------- 20.2/39.5 MB 12.1 MB/s eta 0:00:02\n",
      "     -------------------- ------------------ 20.8/39.5 MB 12.1 MB/s eta 0:00:02\n",
      "     --------------------- ----------------- 21.4/39.5 MB 12.8 MB/s eta 0:00:02\n",
      "     --------------------- ----------------- 22.1/39.5 MB 13.1 MB/s eta 0:00:02\n",
      "     ---------------------- ---------------- 22.7/39.5 MB 13.1 MB/s eta 0:00:02\n",
      "     ----------------------- --------------- 23.3/39.5 MB 13.1 MB/s eta 0:00:02\n",
      "     ----------------------- --------------- 23.9/39.5 MB 13.1 MB/s eta 0:00:02\n",
      "     ------------------------ -------------- 24.5/39.5 MB 13.1 MB/s eta 0:00:02\n",
      "     ------------------------ -------------- 25.1/39.5 MB 13.4 MB/s eta 0:00:02\n",
      "     ------------------------- ------------- 25.7/39.5 MB 12.8 MB/s eta 0:00:02\n",
      "     -------------------------- ------------ 26.4/39.5 MB 13.1 MB/s eta 0:00:02\n",
      "     -------------------------- ------------ 26.9/39.5 MB 12.9 MB/s eta 0:00:01\n",
      "     --------------------------- ----------- 27.5/39.5 MB 12.8 MB/s eta 0:00:01\n",
      "     --------------------------- ----------- 28.1/39.5 MB 12.8 MB/s eta 0:00:01\n",
      "     ---------------------------- ---------- 28.7/39.5 MB 12.8 MB/s eta 0:00:01\n",
      "     ---------------------------- ---------- 29.3/39.5 MB 12.8 MB/s eta 0:00:01\n",
      "     ----------------------------- --------- 30.0/39.5 MB 12.8 MB/s eta 0:00:01\n",
      "     ------------------------------ -------- 30.6/39.5 MB 13.1 MB/s eta 0:00:01\n",
      "     ------------------------------ -------- 31.2/39.5 MB 12.8 MB/s eta 0:00:01\n",
      "     ------------------------------- ------- 31.8/39.5 MB 13.1 MB/s eta 0:00:01\n",
      "     -------------------------------- ------ 32.4/39.5 MB 13.1 MB/s eta 0:00:01\n",
      "     -------------------------------- ------ 33.1/39.5 MB 13.1 MB/s eta 0:00:01\n",
      "     --------------------------------- ----- 33.6/39.5 MB 13.1 MB/s eta 0:00:01\n",
      "     --------------------------------- ----- 34.3/39.5 MB 13.1 MB/s eta 0:00:01\n",
      "     ---------------------------------- ---- 34.8/39.5 MB 13.1 MB/s eta 0:00:01\n",
      "     ----------------------------------- --- 35.5/39.5 MB 13.1 MB/s eta 0:00:01\n",
      "     ----------------------------------- --- 36.1/39.5 MB 13.1 MB/s eta 0:00:01\n",
      "     ------------------------------------ -- 36.6/39.5 MB 13.1 MB/s eta 0:00:01\n",
      "     ------------------------------------ -- 37.2/39.5 MB 13.1 MB/s eta 0:00:01\n",
      "     ------------------------------------- - 37.8/39.5 MB 13.1 MB/s eta 0:00:01\n",
      "     --------------------------------------  38.5/39.5 MB 13.1 MB/s eta 0:00:01\n",
      "     --------------------------------------  39.1/39.5 MB 13.1 MB/s eta 0:00:01\n",
      "     --------------------------------------  39.5/39.5 MB 13.1 MB/s eta 0:00:01\n",
      "     --------------------------------------  39.5/39.5 MB 13.1 MB/s eta 0:00:01\n",
      "     --------------------------------------- 39.5/39.5 MB 11.3 MB/s eta 0:00:00\n",
      "Requirement already satisfied: numpy>=1.17.3 in c:\\users\\hp\\appdata\\local\\packages\\pythonsoftwarefoundation.python.3.10_qbz5n2kfra8p0\\localcache\\local-packages\\python310\\site-packages (from opencv-python) (2.0.2)\n",
      "Installing collected packages: opencv-python\n",
      "Successfully installed opencv-python-4.11.0.86\n",
      "Note: you may need to restart the kernel to use updated packages.\n"
     ]
    },
    {
     "name": "stderr",
     "output_type": "stream",
     "text": [
      "\n",
      "[notice] A new release of pip is available: 23.0.1 -> 24.3.1\n",
      "[notice] To update, run: C:\\Users\\HP\\AppData\\Local\\Microsoft\\WindowsApps\\PythonSoftwareFoundation.Python.3.10_qbz5n2kfra8p0\\python.exe -m pip install --upgrade pip\n"
     ]
    }
   ],
   "source": [
    "pip install opencv-python"
   ]
  },
  {
   "cell_type": "code",
   "execution_count": 18,
   "metadata": {},
   "outputs": [],
   "source": [
    "# pip install tensorflow"
   ]
  },
  {
   "cell_type": "code",
   "execution_count": 19,
   "metadata": {},
   "outputs": [
    {
     "name": "stdout",
     "output_type": "stream",
     "text": [
      "Collecting pandas\n",
      "  Downloading pandas-2.2.3-cp310-cp310-win_amd64.whl (11.6 MB)\n",
      "     ---------------------------------------- 0.0/11.6 MB ? eta -:--:--\n",
      "     ---------------------------------------- 0.1/11.6 MB 1.3 MB/s eta 0:00:09\n",
      "     ---------------------------------------- 0.1/11.6 MB 1.2 MB/s eta 0:00:10\n",
      "      --------------------------------------- 0.2/11.6 MB 2.1 MB/s eta 0:00:06\n",
      "     - -------------------------------------- 0.5/11.6 MB 3.2 MB/s eta 0:00:04\n",
      "     --- ------------------------------------ 0.9/11.6 MB 4.2 MB/s eta 0:00:03\n",
      "     ---- ----------------------------------- 1.3/11.6 MB 4.9 MB/s eta 0:00:03\n",
      "     ----- ---------------------------------- 1.5/11.6 MB 4.9 MB/s eta 0:00:03\n",
      "     ------ --------------------------------- 2.0/11.6 MB 5.5 MB/s eta 0:00:02\n",
      "     -------- ------------------------------- 2.4/11.6 MB 5.9 MB/s eta 0:00:02\n",
      "     --------- ------------------------------ 2.7/11.6 MB 5.9 MB/s eta 0:00:02\n",
      "     ---------- ----------------------------- 3.1/11.6 MB 6.2 MB/s eta 0:00:02\n",
      "     ------------ --------------------------- 3.6/11.6 MB 6.5 MB/s eta 0:00:02\n",
      "     ------------- -------------------------- 4.0/11.6 MB 6.7 MB/s eta 0:00:02\n",
      "     --------------- ------------------------ 4.5/11.6 MB 7.1 MB/s eta 0:00:01\n",
      "     ----------------- ---------------------- 5.0/11.6 MB 7.2 MB/s eta 0:00:01\n",
      "     ------------------- -------------------- 5.6/11.6 MB 7.5 MB/s eta 0:00:01\n",
      "     ------------------- -------------------- 5.8/11.6 MB 7.4 MB/s eta 0:00:01\n",
      "     --------------------- ------------------ 6.2/11.6 MB 7.5 MB/s eta 0:00:01\n",
      "     ---------------------- ----------------- 6.7/11.6 MB 7.6 MB/s eta 0:00:01\n",
      "     ------------------------ --------------- 7.2/11.6 MB 7.8 MB/s eta 0:00:01\n",
      "     --------------------------- ------------ 7.8/11.6 MB 8.1 MB/s eta 0:00:01\n",
      "     ---------------------------- ----------- 8.4/11.6 MB 8.2 MB/s eta 0:00:01\n",
      "     ------------------------------- -------- 9.0/11.6 MB 8.5 MB/s eta 0:00:01\n",
      "     --------------------------------- ------ 9.6/11.6 MB 8.7 MB/s eta 0:00:01\n",
      "     ----------------------------------- ---- 10.2/11.6 MB 8.8 MB/s eta 0:00:01\n",
      "     ------------------------------------ -- 10.8/11.6 MB 10.1 MB/s eta 0:00:01\n",
      "     --------------------------------------  11.5/11.6 MB 10.2 MB/s eta 0:00:01\n",
      "     ---------------------------------------- 11.6/11.6 MB 9.9 MB/s eta 0:00:00\n",
      "Requirement already satisfied: python-dateutil>=2.8.2 in c:\\users\\hp\\appdata\\local\\packages\\pythonsoftwarefoundation.python.3.10_qbz5n2kfra8p0\\localcache\\local-packages\\python310\\site-packages (from pandas) (2.9.0.post0)\n",
      "Requirement already satisfied: numpy>=1.22.4 in c:\\users\\hp\\appdata\\local\\packages\\pythonsoftwarefoundation.python.3.10_qbz5n2kfra8p0\\localcache\\local-packages\\python310\\site-packages (from pandas) (2.0.2)\n",
      "Collecting tzdata>=2022.7\n",
      "  Downloading tzdata-2025.1-py2.py3-none-any.whl (346 kB)\n",
      "     ---------------------------------------- 0.0/346.8 kB ? eta -:--:--\n",
      "     ------------------------------------- 346.8/346.8 kB 10.9 MB/s eta 0:00:00\n",
      "Collecting pytz>=2020.1\n",
      "  Downloading pytz-2024.2-py2.py3-none-any.whl (508 kB)\n",
      "     ---------------------------------------- 0.0/508.0 kB ? eta -:--:--\n",
      "     ------------------------------------  501.8/508.0 kB 10.7 MB/s eta 0:00:01\n",
      "     ------------------------------------- 508.0/508.0 kB 10.8 MB/s eta 0:00:00\n",
      "Requirement already satisfied: six>=1.5 in c:\\users\\hp\\appdata\\local\\packages\\pythonsoftwarefoundation.python.3.10_qbz5n2kfra8p0\\localcache\\local-packages\\python310\\site-packages (from python-dateutil>=2.8.2->pandas) (1.17.0)\n",
      "Installing collected packages: pytz, tzdata, pandas\n",
      "Successfully installed pandas-2.2.3 pytz-2024.2 tzdata-2025.1\n",
      "Note: you may need to restart the kernel to use updated packages.\n"
     ]
    },
    {
     "name": "stderr",
     "output_type": "stream",
     "text": [
      "\n",
      "[notice] A new release of pip is available: 23.0.1 -> 24.3.1\n",
      "[notice] To update, run: C:\\Users\\HP\\AppData\\Local\\Microsoft\\WindowsApps\\PythonSoftwareFoundation.Python.3.10_qbz5n2kfra8p0\\python.exe -m pip install --upgrade pip\n"
     ]
    }
   ],
   "source": [
    "pip install pandas\n"
   ]
  },
  {
   "cell_type": "code",
   "execution_count": 20,
   "metadata": {},
   "outputs": [
    {
     "name": "stdout",
     "output_type": "stream",
     "text": [
      "Collecting matplotlib\n",
      "  Downloading matplotlib-3.10.0-cp310-cp310-win_amd64.whl (8.0 MB)\n",
      "     ---------------------------------------- 0.0/8.0 MB ? eta -:--:--\n",
      "     ---------------------------------------- 0.0/8.0 MB 960.0 kB/s eta 0:00:09\n",
      "     ---------------------------------------- 0.1/8.0 MB 1.3 MB/s eta 0:00:07\n",
      "     - -------------------------------------- 0.2/8.0 MB 1.7 MB/s eta 0:00:05\n",
      "     - -------------------------------------- 0.4/8.0 MB 2.3 MB/s eta 0:00:04\n",
      "     -- ------------------------------------- 0.6/8.0 MB 2.7 MB/s eta 0:00:03\n",
      "     ----- ---------------------------------- 1.1/8.0 MB 4.0 MB/s eta 0:00:02\n",
      "     ------ --------------------------------- 1.4/8.0 MB 4.2 MB/s eta 0:00:02\n",
      "     --------- ------------------------------ 1.9/8.0 MB 4.9 MB/s eta 0:00:02\n",
      "     ---------- ----------------------------- 2.0/8.0 MB 4.8 MB/s eta 0:00:02\n",
      "     ------------ --------------------------- 2.5/8.0 MB 5.5 MB/s eta 0:00:01\n",
      "     -------------- ------------------------- 2.9/8.0 MB 5.8 MB/s eta 0:00:01\n",
      "     ---------------- ----------------------- 3.3/8.0 MB 5.9 MB/s eta 0:00:01\n",
      "     ------------------ --------------------- 3.8/8.0 MB 6.3 MB/s eta 0:00:01\n",
      "     --------------------- ------------------ 4.4/8.0 MB 6.7 MB/s eta 0:00:01\n",
      "     ----------------------- ---------------- 4.7/8.0 MB 6.6 MB/s eta 0:00:01\n",
      "     ------------------------- -------------- 5.1/8.0 MB 6.8 MB/s eta 0:00:01\n",
      "     ---------------------------- ----------- 5.7/8.0 MB 7.2 MB/s eta 0:00:01\n",
      "     ------------------------------- -------- 6.2/8.0 MB 7.4 MB/s eta 0:00:01\n",
      "     --------------------------------- ------ 6.6/8.0 MB 7.4 MB/s eta 0:00:01\n",
      "     ------------------------------------ --- 7.3/8.0 MB 7.8 MB/s eta 0:00:01\n",
      "     -------------------------------------- - 7.6/8.0 MB 7.8 MB/s eta 0:00:01\n",
      "     ---------------------------------------  8.0/8.0 MB 8.0 MB/s eta 0:00:01\n",
      "     ---------------------------------------- 8.0/8.0 MB 7.7 MB/s eta 0:00:00\n",
      "Collecting fonttools>=4.22.0\n",
      "  Downloading fonttools-4.55.4-cp310-cp310-win_amd64.whl (2.2 MB)\n",
      "     ---------------------------------------- 0.0/2.2 MB ? eta -:--:--\n",
      "     ---------- ----------------------------- 0.6/2.2 MB 12.6 MB/s eta 0:00:01\n",
      "     ---------------------- ----------------- 1.2/2.2 MB 13.0 MB/s eta 0:00:01\n",
      "     ------------------------------- -------- 1.8/2.2 MB 12.4 MB/s eta 0:00:01\n",
      "     ---------------------------------------  2.2/2.2 MB 12.9 MB/s eta 0:00:01\n",
      "     ---------------------------------------- 2.2/2.2 MB 11.8 MB/s eta 0:00:00\n",
      "Collecting kiwisolver>=1.3.1\n",
      "  Downloading kiwisolver-1.4.8-cp310-cp310-win_amd64.whl (71 kB)\n",
      "     ---------------------------------------- 0.0/71.9 kB ? eta -:--:--\n",
      "     ---------------------------------------- 71.9/71.9 kB 3.9 MB/s eta 0:00:00\n",
      "Collecting cycler>=0.10\n",
      "  Downloading cycler-0.12.1-py3-none-any.whl (8.3 kB)\n",
      "Collecting pillow>=8\n",
      "  Downloading pillow-11.1.0-cp310-cp310-win_amd64.whl (2.6 MB)\n",
      "     ---------------------------------------- 0.0/2.6 MB ? eta -:--:--\n",
      "     --------- ------------------------------ 0.6/2.6 MB 19.8 MB/s eta 0:00:01\n",
      "     ------------------- -------------------- 1.3/2.6 MB 16.0 MB/s eta 0:00:01\n",
      "     --------------------------- ------------ 1.8/2.6 MB 14.4 MB/s eta 0:00:01\n",
      "     ------------------------------------ --- 2.4/2.6 MB 14.0 MB/s eta 0:00:01\n",
      "     ---------------------------------------  2.6/2.6 MB 13.9 MB/s eta 0:00:01\n",
      "     ---------------------------------------- 2.6/2.6 MB 11.1 MB/s eta 0:00:00\n",
      "Requirement already satisfied: python-dateutil>=2.7 in c:\\users\\hp\\appdata\\local\\packages\\pythonsoftwarefoundation.python.3.10_qbz5n2kfra8p0\\localcache\\local-packages\\python310\\site-packages (from matplotlib) (2.9.0.post0)\n",
      "Collecting pyparsing>=2.3.1\n",
      "  Downloading pyparsing-3.2.1-py3-none-any.whl (107 kB)\n",
      "     ---------------------------------------- 0.0/107.7 kB ? eta -:--:--\n",
      "     -------------------------------------- 107.7/107.7 kB 6.5 MB/s eta 0:00:00\n",
      "Collecting contourpy>=1.0.1\n",
      "  Downloading contourpy-1.3.1-cp310-cp310-win_amd64.whl (218 kB)\n",
      "     ---------------------------------------- 0.0/218.6 kB ? eta -:--:--\n",
      "     -------------------------------------- 218.6/218.6 kB 4.4 MB/s eta 0:00:00\n",
      "Requirement already satisfied: packaging>=20.0 in c:\\users\\hp\\appdata\\local\\packages\\pythonsoftwarefoundation.python.3.10_qbz5n2kfra8p0\\localcache\\local-packages\\python310\\site-packages (from matplotlib) (24.2)\n",
      "Requirement already satisfied: numpy>=1.23 in c:\\users\\hp\\appdata\\local\\packages\\pythonsoftwarefoundation.python.3.10_qbz5n2kfra8p0\\localcache\\local-packages\\python310\\site-packages (from matplotlib) (2.0.2)\n",
      "Requirement already satisfied: six>=1.5 in c:\\users\\hp\\appdata\\local\\packages\\pythonsoftwarefoundation.python.3.10_qbz5n2kfra8p0\\localcache\\local-packages\\python310\\site-packages (from python-dateutil>=2.7->matplotlib) (1.17.0)\n",
      "Installing collected packages: pyparsing, pillow, kiwisolver, fonttools, cycler, contourpy, matplotlib\n",
      "Successfully installed contourpy-1.3.1 cycler-0.12.1 fonttools-4.55.4 kiwisolver-1.4.8 matplotlib-3.10.0 pillow-11.1.0 pyparsing-3.2.1\n",
      "Note: you may need to restart the kernel to use updated packages.\n"
     ]
    },
    {
     "name": "stderr",
     "output_type": "stream",
     "text": [
      "\n",
      "[notice] A new release of pip is available: 23.0.1 -> 24.3.1\n",
      "[notice] To update, run: C:\\Users\\HP\\AppData\\Local\\Microsoft\\WindowsApps\\PythonSoftwareFoundation.Python.3.10_qbz5n2kfra8p0\\python.exe -m pip install --upgrade pip\n"
     ]
    }
   ],
   "source": [
    "pip install matplotlib\n"
   ]
  },
  {
   "cell_type": "code",
   "execution_count": 21,
   "metadata": {},
   "outputs": [
    {
     "name": "stdout",
     "output_type": "stream",
     "text": [
      "Collecting tqdm\n",
      "  Downloading tqdm-4.67.1-py3-none-any.whl (78 kB)\n",
      "     ---------------------------------------- 0.0/78.5 kB ? eta -:--:--\n",
      "     ------------------- ------------------ 41.0/78.5 kB 960.0 kB/s eta 0:00:01\n",
      "     ---------------------------------------- 78.5/78.5 kB 1.1 MB/s eta 0:00:00\n",
      "Requirement already satisfied: colorama in c:\\users\\hp\\appdata\\local\\packages\\pythonsoftwarefoundation.python.3.10_qbz5n2kfra8p0\\localcache\\local-packages\\python310\\site-packages (from tqdm) (0.4.6)\n",
      "Installing collected packages: tqdm\n",
      "Successfully installed tqdm-4.67.1\n",
      "Note: you may need to restart the kernel to use updated packages.\n"
     ]
    },
    {
     "name": "stderr",
     "output_type": "stream",
     "text": [
      "\n",
      "[notice] A new release of pip is available: 23.0.1 -> 24.3.1\n",
      "[notice] To update, run: C:\\Users\\HP\\AppData\\Local\\Microsoft\\WindowsApps\\PythonSoftwareFoundation.Python.3.10_qbz5n2kfra8p0\\python.exe -m pip install --upgrade pip\n"
     ]
    }
   ],
   "source": [
    "pip install tqdm\n"
   ]
  },
  {
   "cell_type": "code",
   "execution_count": 1,
   "metadata": {},
   "outputs": [
    {
     "name": "stdout",
     "output_type": "stream",
     "text": [
      "Note: you may need to restart the kernel to use updated packages.\n"
     ]
    },
    {
     "name": "stderr",
     "output_type": "stream",
     "text": [
      "WARNING: Skipping matplotlib as it is not installed.\n"
     ]
    }
   ],
   "source": [
    "pip uninstall matplotlib -y\n"
   ]
  },
  {
   "cell_type": "code",
   "execution_count": 1,
   "metadata": {},
   "outputs": [
    {
     "name": "stdout",
     "output_type": "stream",
     "text": [
      "Requirement already satisfied: matplotlib in c:\\users\\hp\\appdata\\local\\packages\\pythonsoftwarefoundation.python.3.10_qbz5n2kfra8p0\\localcache\\local-packages\\python310\\site-packages (3.10.0)\n",
      "Requirement already satisfied: packaging>=20.0 in c:\\users\\hp\\appdata\\local\\packages\\pythonsoftwarefoundation.python.3.10_qbz5n2kfra8p0\\localcache\\local-packages\\python310\\site-packages (from matplotlib) (24.2)\n",
      "Requirement already satisfied: fonttools>=4.22.0 in c:\\users\\hp\\appdata\\local\\packages\\pythonsoftwarefoundation.python.3.10_qbz5n2kfra8p0\\localcache\\local-packages\\python310\\site-packages (from matplotlib) (4.55.4)\n",
      "Requirement already satisfied: python-dateutil>=2.7 in c:\\users\\hp\\appdata\\local\\packages\\pythonsoftwarefoundation.python.3.10_qbz5n2kfra8p0\\localcache\\local-packages\\python310\\site-packages (from matplotlib) (2.9.0.post0)\n",
      "Requirement already satisfied: contourpy>=1.0.1 in c:\\users\\hp\\appdata\\local\\packages\\pythonsoftwarefoundation.python.3.10_qbz5n2kfra8p0\\localcache\\local-packages\\python310\\site-packages (from matplotlib) (1.3.1)\n",
      "Requirement already satisfied: numpy>=1.23 in c:\\users\\hp\\appdata\\local\\packages\\pythonsoftwarefoundation.python.3.10_qbz5n2kfra8p0\\localcache\\local-packages\\python310\\site-packages (from matplotlib) (2.0.2)\n",
      "Requirement already satisfied: pyparsing>=2.3.1 in c:\\users\\hp\\appdata\\local\\packages\\pythonsoftwarefoundation.python.3.10_qbz5n2kfra8p0\\localcache\\local-packages\\python310\\site-packages (from matplotlib) (3.2.1)\n",
      "Requirement already satisfied: cycler>=0.10 in c:\\users\\hp\\appdata\\local\\packages\\pythonsoftwarefoundation.python.3.10_qbz5n2kfra8p0\\localcache\\local-packages\\python310\\site-packages (from matplotlib) (0.12.1)\n",
      "Requirement already satisfied: kiwisolver>=1.3.1 in c:\\users\\hp\\appdata\\local\\packages\\pythonsoftwarefoundation.python.3.10_qbz5n2kfra8p0\\localcache\\local-packages\\python310\\site-packages (from matplotlib) (1.4.8)\n",
      "Requirement already satisfied: pillow>=8 in c:\\users\\hp\\appdata\\local\\packages\\pythonsoftwarefoundation.python.3.10_qbz5n2kfra8p0\\localcache\\local-packages\\python310\\site-packages (from matplotlib) (11.1.0)\n",
      "Requirement already satisfied: six>=1.5 in c:\\users\\hp\\appdata\\local\\packages\\pythonsoftwarefoundation.python.3.10_qbz5n2kfra8p0\\localcache\\local-packages\\python310\\site-packages (from python-dateutil>=2.7->matplotlib) (1.17.0)\n",
      "Note: you may need to restart the kernel to use updated packages.\n"
     ]
    },
    {
     "name": "stderr",
     "output_type": "stream",
     "text": [
      "\n",
      "[notice] A new release of pip is available: 23.0.1 -> 24.3.1\n",
      "[notice] To update, run: C:\\Users\\HP\\AppData\\Local\\Microsoft\\WindowsApps\\PythonSoftwareFoundation.Python.3.10_qbz5n2kfra8p0\\python.exe -m pip install --upgrade pip\n"
     ]
    }
   ],
   "source": [
    "pip install matplotlib\n"
   ]
  },
  {
   "cell_type": "code",
   "execution_count": 8,
   "metadata": {},
   "outputs": [],
   "source": [
    "train_path = \"Dataset/TRAIN\"\n",
    "test_path = \"Dataset/TEST\""
   ]
  },
  {
   "cell_type": "code",
   "execution_count": 1,
   "metadata": {},
   "outputs": [
    {
     "name": "stdout",
     "output_type": "stream",
     "text": [
      "Requirement already satisfied: tensorflow in c:\\users\\hp\\appdata\\local\\packages\\pythonsoftwarefoundation.python.3.10_qbz5n2kfra8p0\\localcache\\local-packages\\python310\\site-packages (2.18.0)\n",
      "Requirement already satisfied: tensorflow-intel==2.18.0 in c:\\users\\hp\\appdata\\local\\packages\\pythonsoftwarefoundation.python.3.10_qbz5n2kfra8p0\\localcache\\local-packages\\python310\\site-packages (from tensorflow) (2.18.0)\n",
      "Requirement already satisfied: tensorboard<2.19,>=2.18 in c:\\users\\hp\\appdata\\local\\packages\\pythonsoftwarefoundation.python.3.10_qbz5n2kfra8p0\\localcache\\local-packages\\python310\\site-packages (from tensorflow-intel==2.18.0->tensorflow) (2.18.0)\n",
      "Requirement already satisfied: six>=1.12.0 in c:\\users\\hp\\appdata\\local\\packages\\pythonsoftwarefoundation.python.3.10_qbz5n2kfra8p0\\localcache\\local-packages\\python310\\site-packages (from tensorflow-intel==2.18.0->tensorflow) (1.17.0)\n",
      "Requirement already satisfied: flatbuffers>=24.3.25 in c:\\users\\hp\\appdata\\local\\packages\\pythonsoftwarefoundation.python.3.10_qbz5n2kfra8p0\\localcache\\local-packages\\python310\\site-packages (from tensorflow-intel==2.18.0->tensorflow) (25.1.21)\n",
      "Requirement already satisfied: tensorflow-io-gcs-filesystem>=0.23.1 in c:\\users\\hp\\appdata\\local\\packages\\pythonsoftwarefoundation.python.3.10_qbz5n2kfra8p0\\localcache\\local-packages\\python310\\site-packages (from tensorflow-intel==2.18.0->tensorflow) (0.31.0)\n",
      "Requirement already satisfied: h5py>=3.11.0 in c:\\users\\hp\\appdata\\local\\packages\\pythonsoftwarefoundation.python.3.10_qbz5n2kfra8p0\\localcache\\local-packages\\python310\\site-packages (from tensorflow-intel==2.18.0->tensorflow) (3.12.1)\n",
      "Requirement already satisfied: libclang>=13.0.0 in c:\\users\\hp\\appdata\\local\\packages\\pythonsoftwarefoundation.python.3.10_qbz5n2kfra8p0\\localcache\\local-packages\\python310\\site-packages (from tensorflow-intel==2.18.0->tensorflow) (18.1.1)\n",
      "Requirement already satisfied: setuptools in c:\\program files\\windowsapps\\pythonsoftwarefoundation.python.3.10_3.10.3056.0_x64__qbz5n2kfra8p0\\lib\\site-packages (from tensorflow-intel==2.18.0->tensorflow) (65.5.0)\n",
      "Requirement already satisfied: protobuf!=4.21.0,!=4.21.1,!=4.21.2,!=4.21.3,!=4.21.4,!=4.21.5,<6.0.0dev,>=3.20.3 in c:\\users\\hp\\appdata\\local\\packages\\pythonsoftwarefoundation.python.3.10_qbz5n2kfra8p0\\localcache\\local-packages\\python310\\site-packages (from tensorflow-intel==2.18.0->tensorflow) (5.29.3)\n",
      "Requirement already satisfied: typing-extensions>=3.6.6 in c:\\users\\hp\\appdata\\local\\packages\\pythonsoftwarefoundation.python.3.10_qbz5n2kfra8p0\\localcache\\local-packages\\python310\\site-packages (from tensorflow-intel==2.18.0->tensorflow) (4.12.2)\n",
      "Requirement already satisfied: packaging in c:\\users\\hp\\appdata\\local\\packages\\pythonsoftwarefoundation.python.3.10_qbz5n2kfra8p0\\localcache\\local-packages\\python310\\site-packages (from tensorflow-intel==2.18.0->tensorflow) (24.2)\n",
      "Requirement already satisfied: gast!=0.5.0,!=0.5.1,!=0.5.2,>=0.2.1 in c:\\users\\hp\\appdata\\local\\packages\\pythonsoftwarefoundation.python.3.10_qbz5n2kfra8p0\\localcache\\local-packages\\python310\\site-packages (from tensorflow-intel==2.18.0->tensorflow) (0.6.0)\n",
      "Requirement already satisfied: numpy<2.1.0,>=1.26.0 in c:\\users\\hp\\appdata\\local\\packages\\pythonsoftwarefoundation.python.3.10_qbz5n2kfra8p0\\localcache\\local-packages\\python310\\site-packages (from tensorflow-intel==2.18.0->tensorflow) (2.0.2)\n",
      "Requirement already satisfied: wrapt>=1.11.0 in c:\\users\\hp\\appdata\\local\\packages\\pythonsoftwarefoundation.python.3.10_qbz5n2kfra8p0\\localcache\\local-packages\\python310\\site-packages (from tensorflow-intel==2.18.0->tensorflow) (1.17.2)\n",
      "Requirement already satisfied: requests<3,>=2.21.0 in c:\\users\\hp\\appdata\\local\\packages\\pythonsoftwarefoundation.python.3.10_qbz5n2kfra8p0\\localcache\\local-packages\\python310\\site-packages (from tensorflow-intel==2.18.0->tensorflow) (2.32.3)\n",
      "Requirement already satisfied: keras>=3.5.0 in c:\\users\\hp\\appdata\\local\\packages\\pythonsoftwarefoundation.python.3.10_qbz5n2kfra8p0\\localcache\\local-packages\\python310\\site-packages (from tensorflow-intel==2.18.0->tensorflow) (3.8.0)\n",
      "Requirement already satisfied: ml-dtypes<0.5.0,>=0.4.0 in c:\\users\\hp\\appdata\\local\\packages\\pythonsoftwarefoundation.python.3.10_qbz5n2kfra8p0\\localcache\\local-packages\\python310\\site-packages (from tensorflow-intel==2.18.0->tensorflow) (0.4.1)\n",
      "Requirement already satisfied: absl-py>=1.0.0 in c:\\users\\hp\\appdata\\local\\packages\\pythonsoftwarefoundation.python.3.10_qbz5n2kfra8p0\\localcache\\local-packages\\python310\\site-packages (from tensorflow-intel==2.18.0->tensorflow) (2.1.0)\n",
      "Requirement already satisfied: termcolor>=1.1.0 in c:\\users\\hp\\appdata\\local\\packages\\pythonsoftwarefoundation.python.3.10_qbz5n2kfra8p0\\localcache\\local-packages\\python310\\site-packages (from tensorflow-intel==2.18.0->tensorflow) (2.5.0)\n",
      "Requirement already satisfied: opt-einsum>=2.3.2 in c:\\users\\hp\\appdata\\local\\packages\\pythonsoftwarefoundation.python.3.10_qbz5n2kfra8p0\\localcache\\local-packages\\python310\\site-packages (from tensorflow-intel==2.18.0->tensorflow) (3.4.0)\n",
      "Requirement already satisfied: grpcio<2.0,>=1.24.3 in c:\\users\\hp\\appdata\\local\\packages\\pythonsoftwarefoundation.python.3.10_qbz5n2kfra8p0\\localcache\\local-packages\\python310\\site-packages (from tensorflow-intel==2.18.0->tensorflow) (1.69.0)\n",
      "Requirement already satisfied: astunparse>=1.6.0 in c:\\users\\hp\\appdata\\local\\packages\\pythonsoftwarefoundation.python.3.10_qbz5n2kfra8p0\\localcache\\local-packages\\python310\\site-packages (from tensorflow-intel==2.18.0->tensorflow) (1.6.3)\n",
      "Requirement already satisfied: google-pasta>=0.1.1 in c:\\users\\hp\\appdata\\local\\packages\\pythonsoftwarefoundation.python.3.10_qbz5n2kfra8p0\\localcache\\local-packages\\python310\\site-packages (from tensorflow-intel==2.18.0->tensorflow) (0.2.0)\n",
      "Requirement already satisfied: wheel<1.0,>=0.23.0 in c:\\users\\hp\\appdata\\local\\packages\\pythonsoftwarefoundation.python.3.10_qbz5n2kfra8p0\\localcache\\local-packages\\python310\\site-packages (from astunparse>=1.6.0->tensorflow-intel==2.18.0->tensorflow) (0.45.1)\n",
      "Requirement already satisfied: rich in c:\\users\\hp\\appdata\\local\\packages\\pythonsoftwarefoundation.python.3.10_qbz5n2kfra8p0\\localcache\\local-packages\\python310\\site-packages (from keras>=3.5.0->tensorflow-intel==2.18.0->tensorflow) (13.9.4)\n",
      "Requirement already satisfied: namex in c:\\users\\hp\\appdata\\local\\packages\\pythonsoftwarefoundation.python.3.10_qbz5n2kfra8p0\\localcache\\local-packages\\python310\\site-packages (from keras>=3.5.0->tensorflow-intel==2.18.0->tensorflow) (0.0.8)\n",
      "Requirement already satisfied: optree in c:\\users\\hp\\appdata\\local\\packages\\pythonsoftwarefoundation.python.3.10_qbz5n2kfra8p0\\localcache\\local-packages\\python310\\site-packages (from keras>=3.5.0->tensorflow-intel==2.18.0->tensorflow) (0.14.0)\n",
      "Requirement already satisfied: idna<4,>=2.5 in c:\\users\\hp\\appdata\\local\\packages\\pythonsoftwarefoundation.python.3.10_qbz5n2kfra8p0\\localcache\\local-packages\\python310\\site-packages (from requests<3,>=2.21.0->tensorflow-intel==2.18.0->tensorflow) (3.10)\n",
      "Requirement already satisfied: certifi>=2017.4.17 in c:\\users\\hp\\appdata\\local\\packages\\pythonsoftwarefoundation.python.3.10_qbz5n2kfra8p0\\localcache\\local-packages\\python310\\site-packages (from requests<3,>=2.21.0->tensorflow-intel==2.18.0->tensorflow) (2024.12.14)\n",
      "Requirement already satisfied: urllib3<3,>=1.21.1 in c:\\users\\hp\\appdata\\local\\packages\\pythonsoftwarefoundation.python.3.10_qbz5n2kfra8p0\\localcache\\local-packages\\python310\\site-packages (from requests<3,>=2.21.0->tensorflow-intel==2.18.0->tensorflow) (2.3.0)\n",
      "Requirement already satisfied: charset-normalizer<4,>=2 in c:\\users\\hp\\appdata\\local\\packages\\pythonsoftwarefoundation.python.3.10_qbz5n2kfra8p0\\localcache\\local-packages\\python310\\site-packages (from requests<3,>=2.21.0->tensorflow-intel==2.18.0->tensorflow) (3.4.1)\n",
      "Requirement already satisfied: werkzeug>=1.0.1 in c:\\users\\hp\\appdata\\local\\packages\\pythonsoftwarefoundation.python.3.10_qbz5n2kfra8p0\\localcache\\local-packages\\python310\\site-packages (from tensorboard<2.19,>=2.18->tensorflow-intel==2.18.0->tensorflow) (3.1.3)\n",
      "Requirement already satisfied: tensorboard-data-server<0.8.0,>=0.7.0 in c:\\users\\hp\\appdata\\local\\packages\\pythonsoftwarefoundation.python.3.10_qbz5n2kfra8p0\\localcache\\local-packages\\python310\\site-packages (from tensorboard<2.19,>=2.18->tensorflow-intel==2.18.0->tensorflow) (0.7.2)\n",
      "Requirement already satisfied: markdown>=2.6.8 in c:\\users\\hp\\appdata\\local\\packages\\pythonsoftwarefoundation.python.3.10_qbz5n2kfra8p0\\localcache\\local-packages\\python310\\site-packages (from tensorboard<2.19,>=2.18->tensorflow-intel==2.18.0->tensorflow) (3.7)\n",
      "Requirement already satisfied: MarkupSafe>=2.1.1 in c:\\users\\hp\\appdata\\local\\packages\\pythonsoftwarefoundation.python.3.10_qbz5n2kfra8p0\\localcache\\local-packages\\python310\\site-packages (from werkzeug>=1.0.1->tensorboard<2.19,>=2.18->tensorflow-intel==2.18.0->tensorflow) (3.0.2)\n",
      "Requirement already satisfied: markdown-it-py>=2.2.0 in c:\\users\\hp\\appdata\\local\\packages\\pythonsoftwarefoundation.python.3.10_qbz5n2kfra8p0\\localcache\\local-packages\\python310\\site-packages (from rich->keras>=3.5.0->tensorflow-intel==2.18.0->tensorflow) (3.0.0)\n",
      "Requirement already satisfied: pygments<3.0.0,>=2.13.0 in c:\\users\\hp\\appdata\\local\\packages\\pythonsoftwarefoundation.python.3.10_qbz5n2kfra8p0\\localcache\\local-packages\\python310\\site-packages (from rich->keras>=3.5.0->tensorflow-intel==2.18.0->tensorflow) (2.19.1)\n",
      "Requirement already satisfied: mdurl~=0.1 in c:\\users\\hp\\appdata\\local\\packages\\pythonsoftwarefoundation.python.3.10_qbz5n2kfra8p0\\localcache\\local-packages\\python310\\site-packages (from markdown-it-py>=2.2.0->rich->keras>=3.5.0->tensorflow-intel==2.18.0->tensorflow) (0.1.2)\n",
      "Note: you may need to restart the kernel to use updated packages.\n"
     ]
    },
    {
     "name": "stderr",
     "output_type": "stream",
     "text": [
      "\n",
      "[notice] A new release of pip is available: 23.0.1 -> 24.3.1\n",
      "[notice] To update, run: C:\\Users\\HP\\AppData\\Local\\Microsoft\\WindowsApps\\PythonSoftwareFoundation.Python.3.10_qbz5n2kfra8p0\\python.exe -m pip install --upgrade pip\n"
     ]
    }
   ],
   "source": [
    "pip install tensorflow"
   ]
  },
  {
   "cell_type": "code",
   "execution_count": null,
   "metadata": {},
   "outputs": [],
   "source": [
    "# Importing Libraries \n",
    "from tensorflow.keras.models import Sequential \n",
    "from tensorflow.keras.layers import Conv2D, MaxPooling2D, Activation, Dropout, Dense, BatchNormalization \n",
    "from tensorflow.keras.preprocessing.image import ImageDataGenerator, img_to_array, load_img\n",
    "from tensorflow.keras.utils import plot_model\n",
    "from glob import glob"
   ]
  },
  {
   "cell_type": "code",
   "execution_count": 13,
   "metadata": {},
   "outputs": [],
   "source": [
    "from glob import glob\n"
   ]
  },
  {
   "cell_type": "code",
   "execution_count": 23,
   "metadata": {},
   "outputs": [
    {
     "name": "stderr",
     "output_type": "stream",
     "text": [
      "100%|██████████| 7539/7539 [00:03<00:00, 1941.03it/s]\n"
     ]
    },
    {
     "name": "stdout",
     "output_type": "stream",
     "text": [
      "                                               image    label\n",
      "0  [[[255, 255, 255], [255, 255, 255], [255, 255,...  TRAIN\\O\n",
      "1  [[[241, 242, 247], [241, 242, 247], [241, 242,...  TRAIN\\O\n",
      "2  [[[224, 224, 224], [229, 229, 229], [236, 236,...  TRAIN\\O\n",
      "3  [[[255, 255, 255], [255, 255, 255], [255, 255,...  TRAIN\\O\n",
      "4  [[[0, 0, 0], [0, 0, 0], [0, 0, 0], [0, 0, 0], ...  TRAIN\\O\n"
     ]
    },
    {
     "data": {
      "image/png": "[encoded data removed]",
      "text/plain": [
       "<Figure size 640x480 with 1 Axes>"
      ]
     },
     "metadata": {},
     "output_type": "display_data"
    }
   ],
   "source": [
    "import cv2\n",
    "import pandas as pd\n",
    "from glob import glob\n",
    "from tqdm import tqdm\n",
    "import matplotlib.pyplot as plt\n",
    "\n",
    "train_path = \"Dataset/TRAIN\"\n",
    "test_path = \"Dataset/TEST\"\n",
    "\n",
    "# Initialize lists for data\n",
    "x_data = []\n",
    "y_data = []\n",
    "\n",
    "# Loop through categories (subdirectories)\n",
    "for category in glob(train_path + '/*'):\n",
    "    # Loop through files in each category\n",
    "    for file in tqdm(glob(category + '/*')):  # tqdm for progress bar\n",
    "        img_array = cv2.imread(file)  # Read the image\n",
    "        img_array = cv2.cvtColor(img_array, cv2.COLOR_BGR2RGB)  # Convert to RGB\n",
    "\n",
    "        x_data.append(img_array)  # Append image to x_data\n",
    "        y_data.append(category.split('/')[-1])  # Append category name to y_data\n",
    "\n",
    "# Create a DataFrame with images and labels\n",
    "data = pd.DataFrame({'image': x_data, 'label': y_data})\n",
    "\n",
    "# Optionally, print the first few rows to verify\n",
    "print(data.head())\n",
    "\n",
    "# Get the value counts of labels\n",
    "label_counts = data['label'].value_counts()\n",
    "\n",
    "# Define colors (make sure there are enough colors for each label)\n",
    "colors = ['#a0d157', '#c48bb8']  # Add more colors if needed\n",
    "\n",
    "# Plot the pie chart\n",
    "plt.pie(\n",
    "    label_counts,  # Values for the pie chart\n",
    "    labels=label_counts.index.tolist(),  # Dynamically generated labels\n",
    "    colors=colors[:len(label_counts)],  # Ensure number of colors matches the labels\n",
    "    autopct='%1.1f%%',  # Display percentage with one decimal place\n",
    "    startangle=90 )\n",
    "\n",
    "# Add a title\n",
    "plt.title(\"Distribution of Labels in the Dataset\")\n",
    "\n",
    "# Display the pie chart\n",
    "plt.show()\n"
   ]
  },
  {
   "cell_type": "code",
   "execution_count": 15,
   "metadata": {},
   "outputs": [
    {
     "data": {
      "text/plain": [
       "(7539, 2)"
      ]
     },
     "execution_count": 15,
     "metadata": {},
     "output_type": "execute_result"
    }
   ],
   "source": [
    "data.shape "
   ]
  }
 ],
 "metadata": {
  "kernelspec": {
   "display_name": "Python 3",
   "language": "python",
   "name": "python3"
  },
  "language_info": {
   "codemirror_mode": {
    "name": "ipython",
    "version": 3
   },
   "file_extension": ".py",
   "mimetype": "text/x-python",
   "name": "python",
   "nbconvert_exporter": "python",
   "pygments_lexer": "ipython3",
   "version": "3.10.11"
  }
 },
 "nbformat": 4,
 "nbformat_minor": 2
}
